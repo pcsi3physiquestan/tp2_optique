{
 "cells": [
  {
   "cell_type": "markdown",
   "id": "charged-ceramic",
   "metadata": {},
   "source": [
    "# Introduction\n",
    "\n",
    "Les TP d'optique sont divisés en deux séances. Le travail se décompose :\n",
    "* __Focométrie__ :\n",
    "    * __[Etude préliminéaire](./notebook/etude_preliminaire.ipynb)__ : Vous devez, chez vous, préparer à l'écrit le TP en réalisant l'étude préliminaire. Vous découvrirez les différents instruments d'optique, les grandeurs mesurables sur un banc d'optique puis mettrez en place les protocoles à réaliser lors des TPs.\n",
    "    * __[Etude semi-quantitative](./notebook/etude_rapide.ipynb)__ : Familiarisation avec le matériel et avec les méthodes de mesure en optique autour de manipulations simples visant à mesurer la distance focale d'une lentille. Durant cette première séance, vous devrez surtout réfléchir à la mise en place des protocole et à leur réalisation. La questions des incertitudes de mesure ne sera pas traités.\n",
    "    * __[Etude complète](./notebook/etude_complete.ipynb)__ : Vous reprendrez les manipulations précédentes mais en cherchant cette fois à estimer les incertitudes de mesure. L'objectif est de réaliser des bilans et estimations d'incertitude pour comparer quantitativement les différentes méthodes de mesure de distance focale.\n",
    "* __[Etude d'un instrument d'optique](./notebook/lunette.ipynb)__ : Vous essaierez de réinvestir ce que vous avez appris en TP et en cours pour construire et étudier un instrument d'optique afocal.\n",
    "* __[Travail supplémentaire](./notebook/supplement.ipynb)__ : Si le temps le permet,  vous essaierez de reprendre les méthodes de focométrie pour étudier une lentille divergente.\n",
    "\n",
    "Le compte-rendu du TP sera manuscrit et devra être rendu à la fin de la deuxième séance. Il contiendra l'étude préliminaire et le compte-rendu des manipulations faites en TP. Un notebook sera utilisé pour l'étude complète et devra être rendu sur le site en plus du compte-rendu.\n",
    "\n",
    "\n",
    "```{toctree}\n",
    ":hidden:\n",
    ":titlesonly:\n",
    ":numbered: True\n",
    ":caption: Focométrie\n",
    "\n",
    "notebook/etude_preliminaire\n",
    "notebook/etude_rapide\n",
    "notebook/etude_complete\n",
    "```\n",
    "\n",
    "\n",
    "```{toctree}\n",
    ":hidden:\n",
    ":titlesonly:\n",
    ":numbered: True\n",
    ":caption: Construction d'une lunette\n",
    "\n",
    "notebook/lunette\n",
    "```\n",
    "\n",
    "\n",
    "```{toctree}\n",
    ":hidden:\n",
    ":titlesonly:\n",
    ":numbered: True\n",
    ":caption: Travaux supplémentaires\n",
    "\n",
    "notebook/supplement\n",
    "```"
   ]
  }
 ],
 "metadata": {
  "jupytext": {
   "encoding": "# -*- coding: utf-8 -*-",
   "formats": "ipynb,md:myst",
   "split_at_heading": true,
   "text_representation": {
    "extension": ".md",
    "format_name": "myst",
    "format_version": 0.13,
    "jupytext_version": "1.10.3"
   }
  },
  "kernelspec": {
   "display_name": "Python 3",
   "language": "python",
   "name": "python3"
  },
  "language_info": {
   "codemirror_mode": {
    "name": "ipython",
    "version": 3
   },
   "file_extension": ".py",
   "mimetype": "text/x-python",
   "name": "python",
   "nbconvert_exporter": "python",
   "pygments_lexer": "ipython3",
   "version": "3.9.2"
  },
  "source_map": [
   15
  ]
 },
 "nbformat": 4,
 "nbformat_minor": 5
}