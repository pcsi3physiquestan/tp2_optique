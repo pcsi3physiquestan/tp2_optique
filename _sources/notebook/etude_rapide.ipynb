{
 "cells": [
  {
   "cell_type": "markdown",
   "id": "5b54add6",
   "metadata": {},
   "source": [
    "On va commencer par réaliser les expériences sans se soucier des incertitudes de mesure pour apprendre à utiliser le matériel d'optique. Le compte-rendu est un compte-rendu écrit qui fera suite à l'étude préliminéaire précédente."
   ]
  },
  {
   "cell_type": "markdown",
   "id": "418b4c1a",
   "metadata": {},
   "source": [
    "# (TP) Présentation rapide du matériel\n",
    "\n",
    "```{margin}\n",
    "Cette partie fait suite à l'étude préliminaire du même nom.\n",
    "```"
   ]
  },
  {
   "cell_type": "markdown",
   "id": "e0687a73",
   "metadata": {},
   "source": [
    "## Détermination rapide du type de lentille (20mn)\n",
    "On se propose d'utiliser deux méthodes pour déterminer le type de lentille :\n",
    "* sa forme\n",
    "* l'observation d'un objet lointain.\n",
    "\n",
    "Prenez deux lentilles de distance focale connues, l'une convergente et l'autre divergente."
   ]
  },
  {
   "cell_type": "markdown",
   "id": "867adf33",
   "metadata": {},
   "source": [
    "### Forme de la lentille\n",
    "1. Observer la forme des deux lentilles et commenter la concavité des deux faces. Expliquer comment faire la différence entre une lentille convergente et une lentille divergente.\n",
    "\n",
    "```{margin}\n",
    "Cette méthode n'est pas toujours satisfaisante car la détermination des concavités des faces n'est pas toujours évident.\n",
    "```"
   ]
  },
  {
   "cell_type": "markdown",
   "id": "f9369d2f",
   "metadata": {},
   "source": [
    "### Observation d'un objet lointain.\n",
    "\n",
    "2. Observer un objet lointain. Grâce à l'étude préliminaire, vérifier que vous pouvez distinguer une lentille convergente d'une lentille divergente. Expliquer clairement la méthode.\n",
    "    1. _Question supplémentaire_ : Pourquoi faut-il tendre le bras quand on observe à travers une lentille convergente ?\n",
    "3. Prendre une lentille de distance focale inconnue et déterminer son type. Rendre compte de votre étude."
   ]
  },
  {
   "cell_type": "markdown",
   "id": "c58c6009",
   "metadata": {},
   "source": [
    "## Instruments d'optique (40mn)\n",
    "\n",
    "```{margin}\n",
    "Cette partie fait suite à l'étude préliminaire du même nom.\n",
    "```\n",
    "\n",
    "Pour cette partie et pour les suivantes, vous prendrez toujours __la même lentille convergente__ de manière à pouvoir comparer les méthodes et leur précision par la suite."
   ]
  },
  {
   "cell_type": "markdown",
   "id": "57b4b4c6",
   "metadata": {},
   "source": [
    "### Exemple d'utilisation.\n",
    "\n",
    "Rappel : On veut déterminer la distance focale d'une lentille convergente en utilisant un objet à l'infini qu'on va simuler."
   ]
  },
  {
   "cell_type": "markdown",
   "id": "6ea4be9a",
   "metadata": {},
   "source": [
    "#### Utilisation d'un écran\n",
    "\n",
    "Les vidéo des réglages sont disponibles [ici](etude_preliminaire:instru-lunette)\n",
    "\n",
    "1. Régler l'instrument 2 choisi dans l'étude préliminaire.\n",
    "2. Utiliser l'instrument 2 pour régler l'instrument 1 (_utiliser une lentille de distance focale +50mm et l'objet de précision pour construire l'instrument 1_).\n",
    "3. Réaliser le reste du montage en utilisant le schéma de montage que vous avez proposé.\n",
    "4. Mesurer les deux grandeurs $x_1$ et $x_2$ choisie dans votre protocole et en déduire $f'$. _Si aucun calcul d'incertitude n'est demandé, commencer à observer les éléments qui causent une variabilité de la mesure._"
   ]
  },
  {
   "cell_type": "markdown",
   "id": "8fcc21e8",
   "metadata": {},
   "source": [
    "#### Utilisation d'un viseur.\n",
    "```{margin}\n",
    "Cette fois, certaines réponses quant au protocole sont données, servez-vous en pour vérifier votre protocole.\n",
    "```\n",
    "\n",
    "1. __Pensez à enlever l'écran.__\n",
    "2. Viser la lentille (un des bords) avec le viseur et mesurer la première grandeur notée $x_{v1}$\n",
    "3. Reculer le viseur pour viser l'image avec le viseur et mesurer la deuxième grandeur notée $x_{v2}$. _Si aucun calcul d'incertitude n'est demandé, commencer à observer les éléments qui causent une variabilité de la mesure._\n",
    "4. En déduire $f'$."
   ]
  },
  {
   "cell_type": "markdown",
   "id": "97cc12b8",
   "metadata": {},
   "source": [
    "#### Comparaison qualitative.\n",
    "Sans entrer dans le détail des estimations, commenter les éléments qui occasionnent une incertitude sur les mesures de $x_1$ et $x_2$ puis de $x_{v1}$ et $x_{v2}$. D'après vous, quelles mesures seront les moins incertaines ?"
   ]
  },
  {
   "cell_type": "markdown",
   "id": "3270638d",
   "metadata": {},
   "source": [
    "### Conclusion\n",
    "Vous avez ainsi appris à utiliser les trois instruments principaux : lunette, collimateur et viseur.\n",
    "\n",
    "```{important}\n",
    "On retiendra :\n",
    "* La méthode d'utilisation du viseur pour mesurer une distance entre deux objets grâce à deux mesures de position __du cavalier du viseur.__\n",
    "* Les intérêts du viseur dans les mesures de distance.\n",
    "* La méthode de réglage d'une lunette et son utilisation pour régler un collimateur.\n",
    "```"
   ]
  },
  {
   "cell_type": "markdown",
   "id": "e3a6e103",
   "metadata": {},
   "source": [
    "# (TP) Focométrie : Etude semi-quantitative\n",
    "\n",
    "## Utilisation des relations de Descartes (1h)\n",
    "\n",
    "Vous allez réaliser le protocole que vous avez mis en place dans [l'étude préliminaire](etude_preliminaire:descartes).\n",
    "\n",
    "1. Réaliser le protocole et rendre compte des résultats de mesurage (sans leur incertitude) pour chaque mesurande directe.\n",
    "2. Déduire les distances algébriques $\\overline{OA}$ et $\\overline{OA'}$ puis la distance $f'$. Rendre compte du résultat obtenu. Commenter\n",
    "\n",
    "```{margin}\n",
    "L'exploitation des résultats restera ici succinte puisqu'on n'a pas estimé les incertitudes.\n",
    "```\n",
    "\n",
    "## Utilisation des relations de Bessel (1h)\n",
    "\n",
    "Vous allez réaliser le protocole que vous avez mis en place dans [l'étude préliminaire](etude_preliminaire:bessel).\n",
    "\n",
    "1. Réaliser le protocole et rendre compte des résultats de mesurage (sans leur incertitude) pour chaque mesurande directe.\n",
    "2. Déduire les distances $d$ et $D$ puis la distance $f'$. Rendre compte du résultat obtenu. Commenter\n",
    "\n",
    "```{margin}\n",
    "L'exploitation des résultats restera ici succinte puisqu'on n'a pas estimé les incertitudes.\n",
    "```"
   ]
  }
 ],
 "metadata": {
  "jupytext": {
   "encoding": "# -*- coding: utf-8 -*-",
   "formats": "ipynb,md:myst",
   "split_at_heading": true,
   "text_representation": {
    "extension": ".md",
    "format_name": "myst",
    "format_version": 0.13,
    "jupytext_version": "1.10.3"
   }
  },
  "kernelspec": {
   "display_name": "Python 3",
   "language": "python",
   "name": "python3"
  },
  "language_info": {
   "codemirror_mode": {
    "name": "ipython",
    "version": 3
   },
   "file_extension": ".py",
   "mimetype": "text/x-python",
   "name": "python",
   "nbconvert_exporter": "python",
   "pygments_lexer": "ipython3",
   "version": "3.9.15"
  },
  "source_map": [
   15,
   19,
   27,
   36,
   45,
   53,
   63,
   69,
   80,
   92,
   97,
   109
  ]
 },
 "nbformat": 4,
 "nbformat_minor": 5
}