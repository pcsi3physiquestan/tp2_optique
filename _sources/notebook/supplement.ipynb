{
 "cells": [
  {
   "cell_type": "markdown",
   "id": "5564e65f",
   "metadata": {},
   "source": [
    "Attention, cette partie n'est à réaliser __QUE si vous avez bien compris les parties précédentes.__ Comptez au moins 1 heure pour réaliser les mesures de chaque partie. L'exploitation peut être réalisée chez vous ensuite.\n",
    "\n",
    "# Détermination d'une distance focale pour une lentille divergente.\n",
    "\n",
    "Prenez une lentille divergente de focale relativement grande. Vous devez proposer une adaptation des protocoles précédents pour mesurer la distance focale de la lentille :\n",
    "* en utilisant un objet à l'infini (simulé)\n",
    "* en utilisant un objet à distance finie et les lois de Descartes\n",
    "\n",
    "A vous de voir si le protocole peut être utilisé directement ou s'il nécessite des adaptations, si certaines précautions supplémentaires sont nécessaires. Une cellule de code est disponible ci-dessous pour réaliser vos traitements pour les incertitudes (le document est téléchargeables comme précédemment)."
   ]
  },
  {
   "cell_type": "code",
   "execution_count": 1,
   "id": "65b02104",
   "metadata": {
    "tags": [
     "remove-output",
     "hide-input"
    ]
   },
   "outputs": [
    {
     "data": {
      "text/plain": [
       "\"\\nCellule de code pour le traitement des données relatives à l'étude d'une lentille divergente.\\n\""
      ]
     },
     "execution_count": 1,
     "metadata": {},
     "output_type": "execute_result"
    }
   ],
   "source": [
    "\"\"\"\n",
    "Cellule de code pour le traitement des données relatives à l'étude d'une lentille divergente.\n",
    "\"\"\"\n"
   ]
  },
  {
   "cell_type": "markdown",
   "id": "fc0933af",
   "metadata": {},
   "source": [
    "# Utilisation d'une régression linéaire\n",
    "Reprendre la même lentille convergente que pour l'étude initiale. On veut réaliser non plus une mesure de $d$ en fixant $D$ avec la méthode de Bessel mais plusieurs (on fera cinq mesures pour 5 valeurs différentes de $D$). L'idée est retrouver la distance focale $f'$ comme la pente d'un ajustement affine reliant deux grandeurs $x(d, D)$ et $y(d, D)$. Proposer puis réaliser un protocole permettant d'obtenir $f'$ de cette manière.\n",
    "\n",
    "La cellule de code ci-dessous vous permettra de réaliser la régression linéaire. N'hésitez pas à utiliser ce qui a été vu dans le premier TP pour réaliser la régression linéaire sous Python et obtenir l'incertitude sur $f'$."
   ]
  },
  {
   "cell_type": "code",
   "execution_count": 2,
   "id": "88b1b37b",
   "metadata": {
    "tags": [
     "remove-output",
     "hide-input"
    ]
   },
   "outputs": [
    {
     "data": {
      "text/plain": [
       "\"\\nCellule de code pour le traitement des données relatives à l'étude d'une lentille convergente par la méthode de Bessel.\\n\""
      ]
     },
     "execution_count": 2,
     "metadata": {},
     "output_type": "execute_result"
    }
   ],
   "source": [
    "\"\"\"\n",
    "Cellule de code pour le traitement des données relatives à l'étude d'une lentille convergente par la méthode de Bessel.\n",
    "\"\"\"\n"
   ]
  }
 ],
 "metadata": {
  "jupytext": {
   "encoding": "# -*- coding: utf-8 -*-",
   "formats": "ipynb,md:myst",
   "split_at_heading": true,
   "text_representation": {
    "extension": ".md",
    "format_name": "myst",
    "format_version": 0.13,
    "jupytext_version": "1.10.3"
   }
  },
  "kernelspec": {
   "display_name": "Python 3",
   "language": "python",
   "name": "python3"
  },
  "language_info": {
   "codemirror_mode": {
    "name": "ipython",
    "version": 3
   },
   "file_extension": ".py",
   "mimetype": "text/x-python",
   "name": "python",
   "nbconvert_exporter": "python",
   "pygments_lexer": "ipython3",
   "version": "3.9.15"
  },
  "source_map": [
   15,
   27,
   34,
   41
  ]
 },
 "nbformat": 4,
 "nbformat_minor": 5
}