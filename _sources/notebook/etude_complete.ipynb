{
 "cells": [
  {
   "cell_type": "markdown",
   "id": "7fabc66b",
   "metadata": {},
   "source": [
    "Le but de cette séance est de reprendre les expériences précédentes en chercher à faire un bilan des sources d'incertitude puis quantifier les incertitudes-type associés. Vous devrez utiliser ce bilan pour obtenir l'incertitude sur $f'$ pour chaque méthode. Vous terminerez par deux études pour conclure :\n",
    "* comparer les différentes méthodes entre elle en terme de précision et en terme de cohérence.\n",
    "* comparer les différentes méthodes avec la valeur constructeur.\n",
    "* faire la moyenne des valeurs obtenues et en déduire une valeur de $f'$ et comparer cette valeur avec la valeur constructeur.\n",
    "\n",
    "La page ci-présente existe en version notebook téléchargeable grâce au bouton ![Bouton](./images/bouton_tl.png) (choisir le format `.ipynb`). On rappelle qu'l faut ensuite l'enregistrer dans un répertoire adéquat sur votre ordinateur (`tp2` par exemple dans votre répertoire personnel) puis lancer Jupyter Notebook depuis Anaconda pour accéder au notebook, le modifier et exécutez les cellules de code adéquates."
   ]
  },
  {
   "cell_type": "markdown",
   "id": "3f838e90",
   "metadata": {},
   "source": [
    "# (TP) Etude quantitative"
   ]
  },
  {
   "cell_type": "markdown",
   "id": "babaeaa9",
   "metadata": {},
   "source": [
    "## Méthode de Descartes. (1h30)\n",
    "\n",
    "### Réalisation des mesure avec bilans d'incertitude.\n",
    "\n",
    "Maintenant que vous avez fait une première fois les mesures pour la méthode de Descartes, vous pouvez réfléchir aux sources d'incertitudes qui ont limité la précision de votre mesure. Refaire la manipulation en cherchant à le bilan des sources d'incertitude et estimer l'incertitude-type pour chaque source. Vous rendrez compte sur votre compte-rendu des sources __pour chaque mesurande directe.__"
   ]
  },
  {
   "cell_type": "markdown",
   "id": "a9c02820",
   "metadata": {},
   "source": [
    "### Traitement des résultats avec Python.\n",
    "Remplissez la cellule de code ci-après pour propager l'incertitude à la distance focale $f'$. On considérera pour simplifier que __toutes les distributions statistiques associées aux différentes lois sont uniformes__."
   ]
  },
  {
   "cell_type": "code",
   "execution_count": 1,
   "id": "20bfdb3d",
   "metadata": {
    "tags": [
     "remove-output",
     "hide-input"
    ]
   },
   "outputs": [
    {
     "name": "stdout",
     "output_type": "stream",
     "text": [
      "Résultat de mesurage pour x1 (sans unités) : 0.0\n",
      "Résultat de mesurage pour u(x1) (sans unités) : nan\n",
      "Résultat de mesurage pour x2 (sans unités) : 0.0\n",
      "Résultat de mesurage pour u(x2) (sans unités) : nan\n",
      "Résultat de mesurage pour x3 (sans unités) : 0.0\n",
      "Résultat de mesurage pour u(x3) (sans unités) : nan\n",
      "Résultat de mesurage pour OA (sans unités) : 0.0\n",
      "Résultat de mesurage pour u(OA) (sans unités) : nan\n",
      "Résultat de mesurage pour OA1 (sans unités) : 0.0\n",
      "Résultat de mesurage pour u(OA1) (sans unités) : nan\n"
     ]
    },
    {
     "name": "stderr",
     "output_type": "stream",
     "text": [
      "D:\\cedri\\anaconda3\\envs\\prepa\\lib\\site-packages\\numpy\\core\\_methods.py:265: RuntimeWarning: Degrees of freedom <= 0 for slice\n",
      "  ret = _var(a, axis=axis, dtype=dtype, out=out, ddof=ddof,\n",
      "D:\\cedri\\anaconda3\\envs\\prepa\\lib\\site-packages\\numpy\\core\\_methods.py:257: RuntimeWarning: invalid value encountered in double_scalars\n",
      "  ret = ret.dtype.type(ret / rcount)\n"
     ]
    },
    {
     "data": {
      "image/png": "[encoded data removed]",
      "text/plain": [
       "<Figure size 640x480 with 1 Axes>"
      ]
     },
     "metadata": {
      "filenames": {
       "image/png": "D:\\cedri\\Dropbox\\Enseignement prepas\\travaux_pratiques\\sources\\tp2_optique\\_build\\jupyter_execute\\notebook\\etude_complete_4_2.png"
      }
     },
     "output_type": "display_data"
    },
    {
     "name": "stdout",
     "output_type": "stream",
     "text": [
      "Résultat de mesurage : 0\n",
      "Incertitude-type : 0\n"
     ]
    }
   ],
   "source": [
    "\"\"\"\n",
    "On importe pour vous les bibliothèques scientifiques utiles.\n",
    "\"\"\"\n",
    "import numpy as np\n",
    "import numpy.random as rd\n",
    "import matplotlib.pyplot as plt\n",
    "\n",
    "\n",
    "\"\"\"\n",
    "Commencer par entrer les résultats de mesurage pour les trois mesurandes directes\n",
    "\"\"\"\n",
    "x1_mes = 0  # Commentaire à remplacer par la descritpion de x1\n",
    "x2_mes = 0  # Commentaire à remplacer par la descritpion de x2\n",
    "x3_mes = 0  # Commentaire à remplacer par la descritpion de x3\n",
    "\n",
    "\n",
    "\"\"\"\n",
    "Pour chaque source d'incertitude créer une ligne ou vous entrez la valeur de de la demi-largeur de la distribution uniforme.\n",
    "\"\"\"\n",
    "# Sources d'incertitudes pour x1\n",
    "x1_d1 = 0  # Décrire ici la source d'incertitude associée\n",
    "x1_d2 = 0  # Décrire ici la source d'incertitude associée\n",
    "\n",
    "# Sources d'incertitudes pour x2\n",
    "\n",
    "\n",
    "\n",
    "# Sources d'incertitudes pour x3\n",
    "\n",
    "\n",
    "\n",
    "\"\"\"\n",
    "Créer les échantillons pour chaque source d'incertitude.\n",
    "On rappelle que pour un tirage de N valeurs suivant une loi uniforme centrée en 0 et de demi-largeur dt, la fonction est \n",
    "rd.uniform(-dt, dt, N)\n",
    "\"\"\"\n",
    "N = 100000\n",
    "x1_d1_sim = rd.uniform(-x1_d1, x1_d1, N)\n",
    "x1_d2_sim = rd.uniform(-x1_d2, x1_d2, N)\n",
    "\n",
    "\n",
    "\"\"\"\n",
    "Créer à partir des échantillons précédents, les échantillons simulés des mesurandes x1, x2, x3\n",
    "(ne pas oublier le résultat de mesurage).\n",
    "\n",
    "Créer ensuite les échantillons simulés de OA, OA' puis f'.\n",
    "\"\"\"\n",
    "x1_sim = 0\n",
    "x2_sim = 0\n",
    "x3_sim = 0\n",
    "OA_sim = 0\n",
    "OA1_sim = 0\n",
    "f1_sim = 0\n",
    "\n",
    "\"\"\"\n",
    "On affiche pour vous les résultats pour chaque grandeur\n",
    "\"\"\"\n",
    "print(\"Résultat de mesurage pour x1 (sans unités) : \" + str(np.mean(x1_sim)))\n",
    "print(\"Résultat de mesurage pour u(x1) (sans unités) : \" + str(np.std(x1_sim, ddof=1)))\n",
    "\n",
    "print(\"Résultat de mesurage pour x2 (sans unités) : \" + str(np.mean(x2_sim)))\n",
    "print(\"Résultat de mesurage pour u(x2) (sans unités) : \" + str(np.std(x2_sim, ddof=1)))\n",
    "\n",
    "print(\"Résultat de mesurage pour x3 (sans unités) : \" + str(np.mean(x3_sim)))\n",
    "print(\"Résultat de mesurage pour u(x3) (sans unités) : \" + str(np.std(x3_sim, ddof=1)))\n",
    "\n",
    "print(\"Résultat de mesurage pour OA (sans unités) : \" + str(np.mean(OA_sim)))\n",
    "print(\"Résultat de mesurage pour u(OA) (sans unités) : \" + str(np.std(OA_sim, ddof=1)))\n",
    "\n",
    "print(\"Résultat de mesurage pour OA1 (sans unités) : \" + str(np.mean(OA1_sim)))\n",
    "print(\"Résultat de mesurage pour u(OA1) (sans unités) : \" + str(np.std(OA1_sim, ddof=1)))\n",
    "\n",
    "\n",
    "\"\"\"\n",
    "Représenter graphiquement l'histogramme des valeurs simulées.\n",
    "On donne le squelette pour le tracé du graphique. Ajouter/modifier les instructions.\n",
    "\"\"\"\n",
    "f, ax = plt.subplots()\n",
    "f.suptitle(\"Simulation de Monte-Carlo pour f'\")\n",
    "ax.set_xlabel(\"\")  # Ajouter une légende aux abscisses (grandeur et unité)\n",
    "\n",
    "# Mettre ici l'instruction traçant l'histogramme des valeurs.\n",
    "\n",
    "plt.show()\n",
    "\n",
    "\"\"\"\n",
    "Calculer et afficher le résultat de mesurage de f' et son incertitude-type.\n",
    "\"\"\"\n",
    "\n",
    "f1 = 0  # Entrer la formule adéquate pour le calcul de f'\n",
    "f1_u = 0  # Entrer la formule adéquate pour le calcul de l'incertitude sur f'\n",
    "\n",
    "print(\"Résultat de mesurage : \" + str(f1))\n",
    "print(\"Incertitude-type : \" + str(f1_u))"
   ]
  },
  {
   "cell_type": "markdown",
   "id": "2e7fbca7",
   "metadata": {},
   "source": [
    "### Compte-rendu des résultats.\n",
    "Dans votre compte-rendu écrit, vous devez maintenant rendre compte des grandeurs suivantes avec leurs incertitudes : $x_1, x_2, x_3, OA, OA', f'$.\n",
    "\n",
    "__Pensez bien à la cohérence des chiffres significatifs. On rappelle qu'on ne gardera que deux chiffres significatifs pour les incertitudes de mesure.__"
   ]
  },
  {
   "cell_type": "markdown",
   "id": "546e659a",
   "metadata": {},
   "source": [
    "### Exploitation des résultats avec Python\n",
    "Vous devez maintenant comparer le résultat de mesure à la valeur constructeur. Lire la valeur sur la lentille utilisée.\n",
    "\n",
    "__Le constructeur annonce une précision de 10% sur la valeur de la focale.__ Sans plus de précision, on considérera qu'il s'agit de l'incertitude-type.\n",
    "\n",
    "Utiliser la cellule ci-dessous pour calculer et afficher l'écart normalisé. Vous rendrez compte sur votre copie du résultat trouvé et commenterez la cohérence entre votre résultat d'expérience et le valeur constructeur."
   ]
  },
  {
   "cell_type": "code",
   "execution_count": 2,
   "id": "382bcb69",
   "metadata": {
    "tags": [
     "remove-output",
     "hide-input"
    ]
   },
   "outputs": [
    {
     "name": "stdout",
     "output_type": "stream",
     "text": [
      "Ecart normalisé : 0\n"
     ]
    }
   ],
   "source": [
    "\"\"\"\n",
    "On rappelle que les variables enregistrées à la cellule précédente sont encore en mémoire.\n",
    "\n",
    "Commencer par entre les valeurs constructeurs.\n",
    "\"\"\"\n",
    "f1_c = 0  # Valeur constructeur\n",
    "f1_cu = 0  # Incertitude constructeur\n",
    "\n",
    "f1_en = 0  # Ecart normalisé\n",
    "\n",
    "print(\"Ecart normalisé : \" + str(f1_en))"
   ]
  },
  {
   "cell_type": "markdown",
   "id": "2795347d",
   "metadata": {},
   "source": [
    "## Méthode de Bessel. (1h30)\n",
    "\n",
    "### Réalisation des mesure avec bilans d'incertitude.\n",
    "\n",
    "Maintenant que vous avez fait une première fois les mesures pour la méthode de Bessel, vous pouvez réfléchir aux sources d'incertitudes qui ont limité la précision de votre mesure. Refaire la manipulation en cherchant à le bilan des sources d'incertitude et estimer l'incertitude-type pour chaque source. Vous rendrez compte sur votre compte-rendu des sources __pour chaque mesurande directe.__"
   ]
  },
  {
   "cell_type": "markdown",
   "id": "c77b0e18",
   "metadata": {},
   "source": [
    "### Traitement des résultats avec Python.\n",
    "Remplissez la cellule de code ci-après pour propager l'incertitude à la distance focale $f'$. On considérera pour simplifier que __toutes les distributions statistiques associées aux différentes lois sont gaussiennes__.\n",
    "\n",
    "Utilisez les cellules précédentes pour écrire votre code.  __Ne pas utiliser des noms de variables déjà utilisés pour ne pas effacer les résultats précédents__."
   ]
  },
  {
   "cell_type": "code",
   "execution_count": 3,
   "id": "e9ba4417",
   "metadata": {
    "tags": [
     "remove-output",
     "hide-input"
    ]
   },
   "outputs": [
    {
     "data": {
      "text/plain": [
       "\"\\nReprésenter graphiquement l'histogramme des valeurs simulées.\\n\""
      ]
     },
     "execution_count": 3,
     "metadata": {},
     "output_type": "execute_result"
    }
   ],
   "source": [
    "\"\"\"\n",
    "Les bibliothèques scientifiques utiles ont déjà été importées. Il n'est pas utile de les réimporter\n",
    "\"\"\"\n",
    "\n",
    "\"\"\"\n",
    "Commencer par entrer les résultats de mesurage pour les mesurandes directes et les incertitudes types pour chaque source.\n",
    "\"\"\"\n",
    "\n",
    "\n",
    "\"\"\"\n",
    "Créer les échantillons pour chaque source d'incertitude puis pour chaque mesurande directe.\n",
    "\"\"\"\n",
    "N = 100000\n",
    "\n",
    "\n",
    "\"\"\"\n",
    "Créer à partir des échantillons précédents, les échantillons simulés des mesurandes d, D puis f'.\n",
    "Utiliser les instructions print des cellules précédentes pour afficher les résultats de mesurage\n",
    "et incertitude-type associées à d, D et f'.\n",
    "\n",
    "Appeler la distance focale f2 (et non f1) pour ne pas remplacer les échantillons de la méthodes de Descartes.\n",
    "\"\"\"\n",
    "\n",
    "\"\"\"\n",
    "Représenter graphiquement l'histogramme des valeurs simulées.\n",
    "\"\"\"\n"
   ]
  },
  {
   "cell_type": "markdown",
   "id": "39ca4ccb",
   "metadata": {},
   "source": [
    "### Compte-rendu des résultats.\n",
    "Dans votre compte-rendu écrit, vous devez maintenant rendre compte des grandeurs de l'étude.."
   ]
  },
  {
   "cell_type": "markdown",
   "id": "ef3bd7f1",
   "metadata": {},
   "source": [
    "### Exploitation des résultats avec Python\n",
    "\n",
    "Utiliser la cellule ci-dessous pour calculer et afficher l'écart normalisé. Vous rendrez compte sur votre copie du résultat trouvé et commenterez la cohérence entre votre résultat d'expérience et le valeur constructeur."
   ]
  },
  {
   "cell_type": "code",
   "execution_count": 4,
   "id": "eed74df1",
   "metadata": {
    "tags": [
     "remove-output",
     "hide-input"
    ]
   },
   "outputs": [
    {
     "data": {
      "text/plain": [
       "'\\nOn rappelle que les variables enregistrées à la cellule précédente sont encore en mémoire.\\n'"
      ]
     },
     "execution_count": 4,
     "metadata": {},
     "output_type": "execute_result"
    }
   ],
   "source": [
    "\"\"\"\n",
    "On rappelle que les variables enregistrées à la cellule précédente sont encore en mémoire.\n",
    "\"\"\"\n"
   ]
  },
  {
   "cell_type": "markdown",
   "id": "83a47594",
   "metadata": {},
   "source": [
    "## Combinaison des mesures (30mn)"
   ]
  },
  {
   "cell_type": "markdown",
   "id": "3a1b19dd",
   "metadata": {},
   "source": [
    "### Moyenne des mesures.\n",
    "Utiliser la cellule de code ci-dessous pour calculer la moyenne des résultats de $f'$ obtenus par les deux méthodes. Pour cela, vous aller :\n",
    "1. Faire N fois la moyenne des deux mesures pour les N échantillons simulés. Vous obtenez un vecteur de N simulations.\n",
    "2. Obtenir ainsi le résultat de mesurage de $f'$ ainsi que son incertitude."
   ]
  },
  {
   "cell_type": "code",
   "execution_count": 5,
   "id": "e16067f8",
   "metadata": {
    "tags": [
     "remove-output",
     "hide-input"
    ]
   },
   "outputs": [
    {
     "data": {
      "text/plain": [
       "'\\nOn rappelle que les variables enregistrées à la cellule précédente sont encore en mémoire.\\n'"
      ]
     },
     "execution_count": 5,
     "metadata": {},
     "output_type": "execute_result"
    }
   ],
   "source": [
    "\"\"\"\n",
    "On rappelle que les variables enregistrées à la cellule précédente sont encore en mémoire.\n",
    "\"\"\"\n"
   ]
  },
  {
   "cell_type": "markdown",
   "id": "c592e1d9",
   "metadata": {},
   "source": [
    "### Cohérence des mesures.\n",
    "Réfléchir aux différentes cohérences entre valeur qu'on peut estimer (ici vous devez trouver au moins 3 écarts normalisés à calculer). Utiliser la cellule de code ci-dessous pour les calculer."
   ]
  },
  {
   "cell_type": "code",
   "execution_count": 6,
   "id": "fa5f4a7b",
   "metadata": {
    "tags": [
     "remove-output",
     "hide-input"
    ]
   },
   "outputs": [
    {
     "data": {
      "text/plain": [
       "'\\nOn rappelle que les variables enregistrées à la cellule précédente sont encore en mémoire.\\n'"
      ]
     },
     "execution_count": 6,
     "metadata": {},
     "output_type": "execute_result"
    }
   ],
   "source": [
    "\"\"\"\n",
    "On rappelle que les variables enregistrées à la cellule précédente sont encore en mémoire.\n",
    "\"\"\"\n"
   ]
  },
  {
   "cell_type": "markdown",
   "id": "353e59d3",
   "metadata": {},
   "source": [
    "### Rendre compte et exploiter les résultats.\n",
    "Rendre compte de la valeur moyenne de $f'$ ainsi que des deux résultats de mesurage obtenus par les méthode de Bessel et Descartes avec les incertitudes puis rendre compte des différents écarts normalisés. Exploiter ensuite ces mesures pour :\n",
    "* tester la cohérence des méthodes entre elles\n",
    "* tester la cohérence des méthodes et de la valeur finale avec la valeur constructeur\n",
    "* comparer la précision des deux méthodes. A-t-on raison de faire une moyenne des résultats ?\n",
    "\n",
    "## Conclusion\n",
    "__Important__ : Les méthodes d'exploitation ont été très guidées pour ce premier TP. On remarquera ainsi qu'on a tester non seulement la compatibilité avec la valeur constructeur mais aussi la compatibilité des résultats des méthodes __entre elles__. On a aussi __comparer la précision__ des deux méthodes.\n",
    "\n",
    "Ces exploitations ne sont pas les seules. On retiendra qu'il n'y a pas d'automatisme mais __qu'il est fondamental d'exploiter au maximum les résultats de mesures.__ Sans quoi votre travail n'aura servi à rien...\n",
    "\n",
    "_Par la suite, les exploitations à réaliser ne seront pas forcément guidées comme pour ce TP._"
   ]
  }
 ],
 "metadata": {
  "jupytext": {
   "encoding": "# -*- coding: utf-8 -*-",
   "formats": "ipynb,md:myst",
   "split_at_heading": true,
   "text_representation": {
    "extension": ".md",
    "format_name": "myst",
    "format_version": 0.13,
    "jupytext_version": "1.10.3"
   }
  },
  "kernelspec": {
   "display_name": "Python 3",
   "language": "python",
   "name": "python3"
  },
  "language_info": {
   "codemirror_mode": {
    "name": "ipython",
    "version": 3
   },
   "file_extension": ".py",
   "mimetype": "text/x-python",
   "name": "python",
   "nbconvert_exporter": "python",
   "pygments_lexer": "ipython3",
   "version": "3.9.15"
  },
  "source_map": [
   15,
   24,
   28,
   36,
   42,
   140,
   147,
   156,
   171,
   179,
   187,
   219,
   224,
   230,
   237,
   241,
   248,
   255,
   260,
   267
  ]
 },
 "nbformat": 4,
 "nbformat_minor": 5
}