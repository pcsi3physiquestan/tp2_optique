{
 "cells": [
  {
   "cell_type": "markdown",
   "id": "banner-compilation",
   "metadata": {},
   "source": [
    "Cette partie du TP est complètement indépendante des précédentes. Vous allez apprendre à manipuler les notions en rapport avec les objets à l'infini. Cette partie est peu guidée. C'est à vous de :\n",
    "* proposer un protocole répondant aux problématiques posées.\n",
    "* réaliser ce protocole et réaliser les bilans d'incertitude nécessaires.\n",
    "* exploiter les mesures que vous aurez obtenus pour répondre aux problématiques posées.\n",
    "\n",
    "Ce notebook est téléchargeable en versino `.ipynb` grâce au bouton ![Bouton téléchargerment](./images/bouton_tl.png). _On rappelle qu'il faut choisir le format `.ipynb` et le placer dans un répertoire adapté pour l'ouvrir avec Jupyer Notebook_)."
   ]
  },
  {
   "cell_type": "markdown",
   "id": "headed-beast",
   "metadata": {},
   "source": [
    "# (TP) Etude d'une lunette astronomique. (1h)\n",
    "\n",
    "Une lunette de Galilée est une lunette astronomique, c’est-à-dire destinée à viser des objets à l’infini, dont le dispositif oculaire est un système divergent. Nous allons chercher à construire une lunette de Galilée destinée à être utilisé par un oeil emmétrope dans les meilleurs conditions. Dans son modèle le plus simple, une lunette de Galilée est constituée :\n",
    "* d’un objectif réalisé par une lentille convergente\n",
    "* d’un oculaire réalisé par une lentille divergente"
   ]
  },
  {
   "cell_type": "markdown",
   "id": "distinguished-bibliography",
   "metadata": {},
   "source": [
    "## Cahier des charges de la lunette\n",
    "* La lunette de Galilée construire devra satisfaire la description précédente.\n",
    "* De plus, une lunette sert à grossir les objets observés pour mieux en visualiser les détails. Si les grossissements des lunettes du commerce peuvent atteindre $\\times 10$ à $\\times 400$, nous nous contenterons ici d’un faible grossissement (à cause des faibles diamètres de la lentille). On impose donc que le grossissement soit compris entre 1,4 et 2.\n",
    "* La lunette devra être utilisée par l’oeil humain emmétrope ou avec ses défauts. On la testera avec un oeil au repos modélisé par __un système lentille + écran avec une lentille +200mm__.\n",
    "* Pour régler la lunette, on fait \"comme s'il s'agissait d'une vraie lunette\" : on ne peut pas la démonter pour mesurer les distances focales des lentilles (qui ne sont connues qu'à 10%). __On devra donc proposer un protocole de réglage de la lunette par l'utilisateur (l'oeil emmétrope) sans connaître les distances focales.__"
   ]
  },
  {
   "cell_type": "markdown",
   "id": "authorized-width",
   "metadata": {},
   "source": [
    "## Matériel à disposition\n",
    "* 1 Banc optique\n",
    "* 6 Cavaliers (différents régagles sont possibles sur les cavaliers)\n",
    "* 4 Porte-objet/lentilles\n",
    "* 1 Objet lumineux LED\n",
    "* 1 Objet de précision\n",
    "* 1 Lunette afocale\n",
    "* 1 Ecran\n",
    "* 3 Lentilles sur pieds (Valeurs indicatives, __elles peuvent changer le jour du TP__ : +100mm ; +200mm, -100mm)\n",
    "* 4 Lentilles sans pieds (Valeurs indicatives, __elles peuvent changer le jour du TP__ : +50mm +150mm ; +300m ; -300mm)\n",
    "* 1 Miroir Plan\n",
    "\n",
    "## Oeil emmétrope au repos\n",
    "Proposer un protocole permettant de simuler l'oeil emmétrope au repos constitué de la lentille de focale +200mm et d'un écran. Procéder ensuite à la réalisation de cet oeil emmétrope.\n",
    "\n",
    "## Lunette de Galilée\n",
    "Vous devez maintenant :\n",
    "1. Choisir des distances focales adaptées pour construire une lunette de Galilée répondant au cahier des charges.\n",
    "2. Proposer puis réaliser un protocole pour régler la lunette et la rendre utilisable par l'oeil emmétrope au repos construit précédemment. __On rappelle que vous devez partir du principe que vous ne connaissez pas les distances focales des lentilles pour ce réglage.__\n",
    "3. Proposer puis réaliser un protocole permettant de mesurer le grossissement de la lunette ainsi construite. On devra vérifier l'adéquation entre la valeur mesurée et le cahier des charges."
   ]
  },
  {
   "cell_type": "code",
   "execution_count": 1,
   "id": "geological-edward",
   "metadata": {},
   "outputs": [
    {
     "data": {
      "text/plain": [
       "\"\\nUtilisez cette cellule pour réaliser les simulations de Monte-Carlo adéquates et obtenir les incertitude de mesure que vous devez calculer.\\n\\nAttention, les bibliothèques scientifiques n'ont pas été chargées. Vous êtes complètement libre dans votre traitement.\\n\""
      ]
     },
     "execution_count": 1,
     "metadata": {},
     "output_type": "execute_result"
    }
   ],
   "source": [
    "\"\"\"\n",
    "Utilisez cette cellule pour réaliser les simulations de Monte-Carlo adéquates et obtenir les incertitude de mesure que vous devez calculer.\n",
    "\n",
    "Attention, les bibliothèques scientifiques n'ont pas été chargées. Vous êtes complètement libre dans votre traitement.\n",
    "\"\"\"\n",
    "\n"
   ]
  }
 ],
 "metadata": {
  "jupytext": {
   "encoding": "# -*- coding: utf-8 -*-",
   "formats": "ipynb,md:myst",
   "split_at_heading": true,
   "text_representation": {
    "extension": ".md",
    "format_name": "myst",
    "format_version": 0.13,
    "jupytext_version": "1.10.3"
   }
  },
  "kernelspec": {
   "display_name": "Python 3",
   "language": "python",
   "name": "python3"
  },
  "language_info": {
   "codemirror_mode": {
    "name": "ipython",
    "version": 3
   },
   "file_extension": ".py",
   "mimetype": "text/x-python",
   "name": "python",
   "nbconvert_exporter": "python",
   "pygments_lexer": "ipython3",
   "version": "3.9.2"
  },
  "source_map": [
   15,
   24,
   32,
   40,
   63
  ]
 },
 "nbformat": 4,
 "nbformat_minor": 5
}